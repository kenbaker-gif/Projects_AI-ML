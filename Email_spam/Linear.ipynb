{
  "metadata": {
    "kernelspec": {
      "name": "python",
      "display_name": "Python (Pyodide)",
      "language": "python"
    },
    "language_info": {
      "codemirror_mode": {
        "name": "python",
        "version": 3
      },
      "file_extension": ".py",
      "mimetype": "text/x-python",
      "name": "python",
      "nbconvert_exporter": "python",
      "pygments_lexer": "ipython3",
      "version": "3.8"
    }
  },
  "nbformat_minor": 5,
  "nbformat": 4,
  "cells": [
    {
      "id": "4773c985-606c-44ca-9ef5-0b7a2fccc7fa",
      "cell_type": "code",
      "source": "import numpy as np\nimport pandas as pd\nfrom sklearn.model_selection import train_test_split\nfrom sklearn.preprocessing import StandardScaler\nfrom sklearn.linear_model import LogisticRegression\nfrom sklearn.metrics import accuracy_score\n\n# Load dataset\ndataset = pd.read_csv(\"spambase.data\", header=None)\n\n# Split features and labels\nX = dataset.iloc[:, :-1].values\nY = dataset.iloc[:, -1].values\n\n# Normalize features\nscaler = StandardScaler()\nX = scaler.fit_transform(X)\n\n# Split the data\nX_train, X_test, Y_train, Y_test = train_test_split(X, Y, test_size=0.4, random_state=42)\n\n# Initialize and train logistic regression model\nmodel = LogisticRegression()\nmodel.fit(X_train, Y_train)\n\n# Make predictions\nY_pred = model.predict(X_test)\n\n# Calculate accuracy\naccuracy = accuracy_score(Y_test, Y_pred)\nprint(f\"Sklearn Logistic Regression Accuracy: {accuracy * 100:.2f}%\")\n",
      "metadata": {
        "trusted": true
      },
      "outputs": [
        {
          "name": "stdout",
          "output_type": "stream",
          "text": "Sklearn Logistic Regression Accuracy: 92.18%\n"
        }
      ],
      "execution_count": 1
    },
    {
      "id": "9cb20d85-9eee-4ac3-822c-06b096ba1a70",
      "cell_type": "code",
      "source": "",
      "metadata": {
        "trusted": true
      },
      "outputs": [],
      "execution_count": null
    }
  ]
}